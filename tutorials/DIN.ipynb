{
 "cells": [
  {
   "cell_type": "markdown",
   "id": "6f01ea8a",
   "metadata": {},
   "source": [
    "# Torch-Rechub Tutorial： DIN\n",
    "\n",
    "- 场景：精排（CTR预测） \n",
    "- 模型：DIN\n",
    "- 数据：Amazon-Electronics\n",
    "\n",
    "\n",
    "- 学习目标\n",
    "    - 学会使用torch-rechub调用DIN进行CTR预测\n",
    "    - 学会基于torch-rechub的基础模块，使用pytorch复现DIN模型\n",
    "    \n",
    "\n",
    "\n",
    "- 学习材料：\n",
    "    - 模型思想介绍：https://datawhalechina.github.io/fun-rec/#/ch02/ch2.2/ch2.2.4/DIN\n",
    "    - rechub模型代码：https://github.com/datawhalechina/torch-rechub/blob/main/torch_rechub/models/ranking/din.py\n",
    "    - 数据集详细描述：https://github.com/datawhalechina/torch-rechub/tree/main/examples/ranking\n"
   ]
  },
  {
   "cell_type": "code",
   "execution_count": 1,
   "id": "192e9ce5",
   "metadata": {},
   "outputs": [],
   "source": [
    "#安装torch-rechub\n",
    "# !pip install torch-rechub"
   ]
  },
  {
   "cell_type": "code",
   "execution_count": 2,
   "id": "6d63b81c",
   "metadata": {},
   "outputs": [
    {
     "name": "stdout",
     "output_type": "stream",
     "text": [
      "2.1.1 True\n"
     ]
    },
    {
     "data": {
      "text/plain": [
       "<torch._C.Generator at 0x14337bfa150>"
      ]
     },
     "execution_count": 2,
     "metadata": {},
     "output_type": "execute_result"
    }
   ],
   "source": [
    "# 检查torch的安装以及gpu的使用\n",
    "import torch\n",
    "print(torch.__version__, torch.cuda.is_available())\n",
    "\n",
    "import torch_rechub\n",
    "import pandas as pd\n",
    "import numpy as np\n",
    "import tqdm\n",
    "import sklearn\n",
    "\n",
    "torch.manual_seed(2022) #固定随机种子"
   ]
  },
  {
   "cell_type": "markdown",
   "id": "44a036c1",
   "metadata": {},
   "source": [
    "## 在自定义数据集上训练DIN模型\n",
    "训练新的模型只需要三个步骤：\n",
    "- 支持新数据集\n",
    "- 指定特征含义\n",
    "- 训练新模型\n",
    "\n",
    "\n",
    "### 支持新数据集\n",
    "这里我们以Amazon-Electronics为例，原数据是json格式，我们提取所需要的信息预处理为一个仅包含user_id, item_id, cate_id, time四个特征列的CSV文件。\n",
    "\n",
    "注意：examples文件夹中仅有100行数据方便我们轻量化学习，如果需要Amazon数据集全量数据用于测试模型性能有两种方法：\n",
    "1. 我们提供了处理完成的全量数据在高速网盘链接：https://cowtransfer.com/s/e911569fbb1043 ，只需要下载全量数据后替换下一行的file_path即可；\n",
    "2. 前往Amazon数据集官网：http://jmcauley.ucsd.edu/data/amazon/index_2014.html ，进入后选择elextronics下载，我们同样提供了数据集处理脚本在examples/ranking/data/amazon-electronics/preprocess_amazon_electronics.py文件中。"
   ]
  },
  {
   "cell_type": "code",
   "execution_count": 3,
   "id": "02faf1dd",
   "metadata": {},
   "outputs": [
    {
     "data": {
      "text/html": [
       "<div>\n",
       "<style scoped>\n",
       "    .dataframe tbody tr th:only-of-type {\n",
       "        vertical-align: middle;\n",
       "    }\n",
       "\n",
       "    .dataframe tbody tr th {\n",
       "        vertical-align: top;\n",
       "    }\n",
       "\n",
       "    .dataframe thead th {\n",
       "        text-align: right;\n",
       "    }\n",
       "</style>\n",
       "<table border=\"1\" class=\"dataframe\">\n",
       "  <thead>\n",
       "    <tr style=\"text-align: right;\">\n",
       "      <th></th>\n",
       "      <th>user_id</th>\n",
       "      <th>item_id</th>\n",
       "      <th>time</th>\n",
       "      <th>cate_id</th>\n",
       "    </tr>\n",
       "  </thead>\n",
       "  <tbody>\n",
       "    <tr>\n",
       "      <th>0</th>\n",
       "      <td>0</td>\n",
       "      <td>13179</td>\n",
       "      <td>1400457600</td>\n",
       "      <td>584</td>\n",
       "    </tr>\n",
       "    <tr>\n",
       "      <th>1</th>\n",
       "      <td>0</td>\n",
       "      <td>29247</td>\n",
       "      <td>1400457600</td>\n",
       "      <td>339</td>\n",
       "    </tr>\n",
       "    <tr>\n",
       "      <th>2</th>\n",
       "      <td>0</td>\n",
       "      <td>28326</td>\n",
       "      <td>1400457600</td>\n",
       "      <td>587</td>\n",
       "    </tr>\n",
       "    <tr>\n",
       "      <th>3</th>\n",
       "      <td>0</td>\n",
       "      <td>17993</td>\n",
       "      <td>1400457600</td>\n",
       "      <td>513</td>\n",
       "    </tr>\n",
       "    <tr>\n",
       "      <th>4</th>\n",
       "      <td>0</td>\n",
       "      <td>62275</td>\n",
       "      <td>1400457600</td>\n",
       "      <td>115</td>\n",
       "    </tr>\n",
       "    <tr>\n",
       "      <th>...</th>\n",
       "      <td>...</td>\n",
       "      <td>...</td>\n",
       "      <td>...</td>\n",
       "      <td>...</td>\n",
       "    </tr>\n",
       "    <tr>\n",
       "      <th>95</th>\n",
       "      <td>15</td>\n",
       "      <td>23573</td>\n",
       "      <td>1374364800</td>\n",
       "      <td>339</td>\n",
       "    </tr>\n",
       "    <tr>\n",
       "      <th>96</th>\n",
       "      <td>15</td>\n",
       "      <td>48635</td>\n",
       "      <td>1374364800</td>\n",
       "      <td>388</td>\n",
       "    </tr>\n",
       "    <tr>\n",
       "      <th>97</th>\n",
       "      <td>15</td>\n",
       "      <td>37954</td>\n",
       "      <td>1374364800</td>\n",
       "      <td>330</td>\n",
       "    </tr>\n",
       "    <tr>\n",
       "      <th>98</th>\n",
       "      <td>15</td>\n",
       "      <td>29247</td>\n",
       "      <td>1374364800</td>\n",
       "      <td>339</td>\n",
       "    </tr>\n",
       "    <tr>\n",
       "      <th>99</th>\n",
       "      <td>16</td>\n",
       "      <td>51213</td>\n",
       "      <td>1381795200</td>\n",
       "      <td>189</td>\n",
       "    </tr>\n",
       "  </tbody>\n",
       "</table>\n",
       "<p>100 rows × 4 columns</p>\n",
       "</div>"
      ],
      "text/plain": [
       "    user_id  item_id        time  cate_id\n",
       "0         0    13179  1400457600      584\n",
       "1         0    29247  1400457600      339\n",
       "2         0    28326  1400457600      587\n",
       "3         0    17993  1400457600      513\n",
       "4         0    62275  1400457600      115\n",
       "..      ...      ...         ...      ...\n",
       "95       15    23573  1374364800      339\n",
       "96       15    48635  1374364800      388\n",
       "97       15    37954  1374364800      330\n",
       "98       15    29247  1374364800      339\n",
       "99       16    51213  1381795200      189\n",
       "\n",
       "[100 rows x 4 columns]"
      ]
     },
     "execution_count": 3,
     "metadata": {},
     "output_type": "execute_result"
    }
   ],
   "source": [
    "# 查看文件\n",
    "file_path = '../examples/ranking/data/amazon-electronics/amazon_electronics_sample.csv'\n",
    "data = pd.read_csv(file_path)\n",
    "data"
   ]
  },
  {
   "cell_type": "markdown",
   "id": "3c665ce5",
   "metadata": {},
   "source": [
    "## 特征工程\n",
    "\n",
    "- Dense特征：又称数值型特征，例如薪资、年龄，在DIN中我们没有用到这个类型的特征。\n",
    "- Sparse特征：又称类别型特征，例如性别、学历。本教程中对Sparse特征直接进行LabelEncoder编码操作，将原始的类别字符串映射为数值，在模型中将为每一种取值生成Embedding向量。\n",
    "- Sequence特征：序列特征，比如用户历史点击item_id序列、历史商铺序列等，序列特征如何抽取，是我们在DIN中学习的一个重点，也是DIN主要创新点之一。"
   ]
  },
  {
   "cell_type": "code",
   "execution_count": 4,
   "id": "ea5186c5",
   "metadata": {},
   "outputs": [
    {
     "data": {
      "text/html": [
       "<div>\n",
       "<style scoped>\n",
       "    .dataframe tbody tr th:only-of-type {\n",
       "        vertical-align: middle;\n",
       "    }\n",
       "\n",
       "    .dataframe tbody tr th {\n",
       "        vertical-align: top;\n",
       "    }\n",
       "\n",
       "    .dataframe thead th {\n",
       "        text-align: right;\n",
       "    }\n",
       "</style>\n",
       "<table border=\"1\" class=\"dataframe\">\n",
       "  <thead>\n",
       "    <tr style=\"text-align: right;\">\n",
       "      <th></th>\n",
       "      <th>user_id</th>\n",
       "      <th>history_item</th>\n",
       "      <th>history_cate</th>\n",
       "      <th>target_item</th>\n",
       "      <th>target_cate</th>\n",
       "      <th>label</th>\n",
       "    </tr>\n",
       "  </thead>\n",
       "  <tbody>\n",
       "    <tr>\n",
       "      <th>0</th>\n",
       "      <td>12</td>\n",
       "      <td>[1, 41, 0, 0, 0, 0, 0, 0, 0, 0, 0, 0, 0, 0, 0,...</td>\n",
       "      <td>[45, 22, 0, 0, 0, 0, 0, 0, 0, 0, 0, 0, 0, 0, 0...</td>\n",
       "      <td>35</td>\n",
       "      <td>45</td>\n",
       "      <td>1</td>\n",
       "    </tr>\n",
       "    <tr>\n",
       "      <th>1</th>\n",
       "      <td>14</td>\n",
       "      <td>[29, 51, 52, 0, 0, 0, 0, 0, 0, 0, 0, 0, 0, 0, ...</td>\n",
       "      <td>[36, 39, 34, 0, 0, 0, 0, 0, 0, 0, 0, 0, 0, 0, ...</td>\n",
       "      <td>85</td>\n",
       "      <td>12</td>\n",
       "      <td>0</td>\n",
       "    </tr>\n",
       "    <tr>\n",
       "      <th>2</th>\n",
       "      <td>12</td>\n",
       "      <td>[1, 0, 0, 0, 0, 0, 0, 0, 0, 0, 0, 0, 0, 0, 0, ...</td>\n",
       "      <td>[45, 0, 0, 0, 0, 0, 0, 0, 0, 0, 0, 0, 0, 0, 0,...</td>\n",
       "      <td>60</td>\n",
       "      <td>37</td>\n",
       "      <td>0</td>\n",
       "    </tr>\n",
       "    <tr>\n",
       "      <th>3</th>\n",
       "      <td>6</td>\n",
       "      <td>[78, 36, 68, 89, 30, 24, 94, 90, 0, 0, 0, 0, 0...</td>\n",
       "      <td>[56, 2, 34, 64, 53, 34, 33, 64, 0, 0, 0, 0, 0,...</td>\n",
       "      <td>27</td>\n",
       "      <td>66</td>\n",
       "      <td>0</td>\n",
       "    </tr>\n",
       "    <tr>\n",
       "      <th>4</th>\n",
       "      <td>7</td>\n",
       "      <td>[57, 27, 0, 0, 0, 0, 0, 0, 0, 0, 0, 0, 0, 0, 0...</td>\n",
       "      <td>[62, 66, 0, 0, 0, 0, 0, 0, 0, 0, 0, 0, 0, 0, 0...</td>\n",
       "      <td>35</td>\n",
       "      <td>45</td>\n",
       "      <td>0</td>\n",
       "    </tr>\n",
       "    <tr>\n",
       "      <th>...</th>\n",
       "      <td>...</td>\n",
       "      <td>...</td>\n",
       "      <td>...</td>\n",
       "      <td>...</td>\n",
       "      <td>...</td>\n",
       "      <td>...</td>\n",
       "    </tr>\n",
       "    <tr>\n",
       "      <th>129</th>\n",
       "      <td>7</td>\n",
       "      <td>[57, 27, 17, 0, 0, 0, 0, 0, 0, 0, 0, 0, 0, 0, ...</td>\n",
       "      <td>[62, 66, 8, 0, 0, 0, 0, 0, 0, 0, 0, 0, 0, 0, 0...</td>\n",
       "      <td>32</td>\n",
       "      <td>29</td>\n",
       "      <td>1</td>\n",
       "    </tr>\n",
       "    <tr>\n",
       "      <th>130</th>\n",
       "      <td>6</td>\n",
       "      <td>[78, 36, 0, 0, 0, 0, 0, 0, 0, 0, 0, 0, 0, 0, 0...</td>\n",
       "      <td>[56, 2, 0, 0, 0, 0, 0, 0, 0, 0, 0, 0, 0, 0, 0,...</td>\n",
       "      <td>82</td>\n",
       "      <td>14</td>\n",
       "      <td>0</td>\n",
       "    </tr>\n",
       "    <tr>\n",
       "      <th>131</th>\n",
       "      <td>1</td>\n",
       "      <td>[8, 0, 0, 0, 0, 0, 0, 0, 0, 0, 0, 0, 0, 0, 0, ...</td>\n",
       "      <td>[49, 0, 0, 0, 0, 0, 0, 0, 0, 0, 0, 0, 0, 0, 0,...</td>\n",
       "      <td>95</td>\n",
       "      <td>38</td>\n",
       "      <td>0</td>\n",
       "    </tr>\n",
       "    <tr>\n",
       "      <th>132</th>\n",
       "      <td>10</td>\n",
       "      <td>[73, 0, 0, 0, 0, 0, 0, 0, 0, 0, 0, 0, 0, 0, 0,...</td>\n",
       "      <td>[61, 0, 0, 0, 0, 0, 0, 0, 0, 0, 0, 0, 0, 0, 0,...</td>\n",
       "      <td>12</td>\n",
       "      <td>3</td>\n",
       "      <td>0</td>\n",
       "    </tr>\n",
       "    <tr>\n",
       "      <th>133</th>\n",
       "      <td>16</td>\n",
       "      <td>[16, 23, 0, 0, 0, 0, 0, 0, 0, 0, 0, 0, 0, 0, 0...</td>\n",
       "      <td>[26, 26, 0, 0, 0, 0, 0, 0, 0, 0, 0, 0, 0, 0, 0...</td>\n",
       "      <td>65</td>\n",
       "      <td>32</td>\n",
       "      <td>1</td>\n",
       "    </tr>\n",
       "  </tbody>\n",
       "</table>\n",
       "<p>134 rows × 6 columns</p>\n",
       "</div>"
      ],
      "text/plain": [
       "     user_id                                       history_item  \\\n",
       "0         12  [1, 41, 0, 0, 0, 0, 0, 0, 0, 0, 0, 0, 0, 0, 0,...   \n",
       "1         14  [29, 51, 52, 0, 0, 0, 0, 0, 0, 0, 0, 0, 0, 0, ...   \n",
       "2         12  [1, 0, 0, 0, 0, 0, 0, 0, 0, 0, 0, 0, 0, 0, 0, ...   \n",
       "3          6  [78, 36, 68, 89, 30, 24, 94, 90, 0, 0, 0, 0, 0...   \n",
       "4          7  [57, 27, 0, 0, 0, 0, 0, 0, 0, 0, 0, 0, 0, 0, 0...   \n",
       "..       ...                                                ...   \n",
       "129        7  [57, 27, 17, 0, 0, 0, 0, 0, 0, 0, 0, 0, 0, 0, ...   \n",
       "130        6  [78, 36, 0, 0, 0, 0, 0, 0, 0, 0, 0, 0, 0, 0, 0...   \n",
       "131        1  [8, 0, 0, 0, 0, 0, 0, 0, 0, 0, 0, 0, 0, 0, 0, ...   \n",
       "132       10  [73, 0, 0, 0, 0, 0, 0, 0, 0, 0, 0, 0, 0, 0, 0,...   \n",
       "133       16  [16, 23, 0, 0, 0, 0, 0, 0, 0, 0, 0, 0, 0, 0, 0...   \n",
       "\n",
       "                                          history_cate  target_item  \\\n",
       "0    [45, 22, 0, 0, 0, 0, 0, 0, 0, 0, 0, 0, 0, 0, 0...           35   \n",
       "1    [36, 39, 34, 0, 0, 0, 0, 0, 0, 0, 0, 0, 0, 0, ...           85   \n",
       "2    [45, 0, 0, 0, 0, 0, 0, 0, 0, 0, 0, 0, 0, 0, 0,...           60   \n",
       "3    [56, 2, 34, 64, 53, 34, 33, 64, 0, 0, 0, 0, 0,...           27   \n",
       "4    [62, 66, 0, 0, 0, 0, 0, 0, 0, 0, 0, 0, 0, 0, 0...           35   \n",
       "..                                                 ...          ...   \n",
       "129  [62, 66, 8, 0, 0, 0, 0, 0, 0, 0, 0, 0, 0, 0, 0...           32   \n",
       "130  [56, 2, 0, 0, 0, 0, 0, 0, 0, 0, 0, 0, 0, 0, 0,...           82   \n",
       "131  [49, 0, 0, 0, 0, 0, 0, 0, 0, 0, 0, 0, 0, 0, 0,...           95   \n",
       "132  [61, 0, 0, 0, 0, 0, 0, 0, 0, 0, 0, 0, 0, 0, 0,...           12   \n",
       "133  [26, 26, 0, 0, 0, 0, 0, 0, 0, 0, 0, 0, 0, 0, 0...           65   \n",
       "\n",
       "     target_cate  label  \n",
       "0             45      1  \n",
       "1             12      0  \n",
       "2             37      0  \n",
       "3             66      0  \n",
       "4             45      0  \n",
       "..           ...    ...  \n",
       "129           29      1  \n",
       "130           14      0  \n",
       "131           38      0  \n",
       "132            3      0  \n",
       "133           32      1  \n",
       "\n",
       "[134 rows x 6 columns]"
      ]
     },
     "execution_count": 4,
     "metadata": {},
     "output_type": "execute_result"
    }
   ],
   "source": [
    "from torch_rechub.utils.data import create_seq_features\n",
    "# 构建用户的历史行为序列特征，内置函数create_seq_features只需要指定数据，和需要生成序列的特征，drop_short是选择舍弃行为序列较短的用户\n",
    "train, val, test = create_seq_features(data, seq_feature_col=['item_id', 'cate_id'], drop_short=0)\n",
    "# 查看当前构建的序列，在这个案例中我们创建了历史点击序列，和历史类别序列\n",
    "train"
   ]
  },
  {
   "cell_type": "markdown",
   "id": "7c0b17c5",
   "metadata": {},
   "source": [
    "### 让模型明白如何处理每一类特征\n",
    "在DIN模型中，我们讲使用了两种类别的特征，分别是类别特征和序列特征。对于类别特征，我们希望模型将其输入Embedding层，而对于序列特征，我们不仅希望模型将其输入Embedding层，还需要计算target-attention分数，所以需要指定DataFrame中每一列的含义，让模型能够正确处理。\n",
    "\n",
    "\n",
    "在这个案例中，因为我们使用user_id,item_id和item_cate这三个类别特征，使用用户的item_id和cate的历史序列作为序列特征。在torch-rechub我们只需要调用DenseFeature, SparseFeature, SequenceFeature这三个类，就能自动正确处理每一类特征。"
   ]
  },
  {
   "cell_type": "code",
   "execution_count": 5,
   "id": "26bba58c",
   "metadata": {},
   "outputs": [],
   "source": [
    "from torch_rechub.basic.features import DenseFeature, SparseFeature, SequenceFeature\n",
    "\n",
    "n_users, n_items, n_cates = data[\"user_id\"].max(), data[\"item_id\"].max(), data[\"cate_id\"].max()\n",
    "# 这里指定每一列特征的处理方式，对于sparsefeature，需要输入embedding层，所以需要指定特征空间大小和输出的维度\n",
    "features = [SparseFeature(\"target_item\", vocab_size=n_items + 2, embed_dim=64),\n",
    "            SparseFeature(\"target_cate\", vocab_size=n_cates + 2, embed_dim=64),\n",
    "            SparseFeature(\"user_id\", vocab_size=n_users + 2, embed_dim=64)]\n",
    "target_features = features\n",
    "# 对于序列特征，除了需要和类别特征一样处理意外，item序列和候选item应该属于同一个空间，我们希望模型共享它们的embedding，所以可以通过shared_with参数指定\n",
    "history_features = [\n",
    "    SequenceFeature(\"history_item\", vocab_size=n_items + 2, embed_dim=64, pooling=\"concat\", shared_with=\"target_item\"),\n",
    "    SequenceFeature(\"history_cate\", vocab_size=n_cates + 2, embed_dim=64, pooling=\"concat\", shared_with=\"target_cate\")\n",
    "]"
   ]
  },
  {
   "cell_type": "markdown",
   "id": "da75c538",
   "metadata": {},
   "source": [
    "在上述步骤中，我们制定了每一列的数据如何处理、数据维度、embed后的维度，目的就是在构建模型中，让模型知道每一层的参数。\n",
    "\n",
    "接下来我们生成训练数据，用于训练，一般情况下，我们只需要定义一个字典装入每一列特征即可。"
   ]
  },
  {
   "cell_type": "code",
   "execution_count": 6,
   "id": "c5490237",
   "metadata": {},
   "outputs": [],
   "source": [
    "from torch_rechub.utils.data import df_to_dict, DataGenerator\n",
    "# 指定label，生成模型的输入，这一步是转换为字典结构\n",
    "train = df_to_dict(train)\n",
    "val = df_to_dict(val)\n",
    "test = df_to_dict(test)\n",
    "\n",
    "train_y, val_y, test_y = train[\"label\"], val[\"label\"], test[\"label\"]\n",
    "\n",
    "del train[\"label\"]\n",
    "del val[\"label\"]\n",
    "del test[\"label\"]\n",
    "train_x, val_x, test_x = train, val, test\n",
    "\n",
    "# 最后查看一次输入模型的数据格式\n",
    "train_x\n",
    "\n",
    "# 构建dataloader，指定模型读取数据的方式，和区分验证集测试集、指定batch大小\n",
    "dg = DataGenerator(train_x, train_y)\n",
    "train_dataloader, val_dataloader, test_dataloader = dg.generate_dataloader(x_val=val_x, y_val=val_y, x_test=test_x, y_test=test_y, batch_size=16)"
   ]
  },
  {
   "cell_type": "markdown",
   "id": "81f1290e",
   "metadata": {},
   "source": [
    "### 训练新模型\n",
    "我们封装了召回、排序、多任务等众多工业界主流的模型，基本能够做到几个参数定义一个模型。\n",
    "\n",
    "在本案例中，我用训练一个深度兴趣网络DIN模型，我们只需要指定DIN的少数模型结构参数，和学习率等参数，就可以完成训练。"
   ]
  },
  {
   "cell_type": "code",
   "execution_count": 12,
   "id": "39395b69",
   "metadata": {},
   "outputs": [
    {
     "name": "stdout",
     "output_type": "stream",
     "text": [
      "epoch: 0\n"
     ]
    },
    {
     "name": "stderr",
     "output_type": "stream",
     "text": [
      "train: 100%|██████████| 9/9 [00:00<00:00, 31.54it/s]\n",
      "validation: 100%|██████████| 2/2 [00:00<00:00, 117.59it/s]\n"
     ]
    },
    {
     "name": "stdout",
     "output_type": "stream",
     "text": [
      "epoch: 0 validation: auc: 0.51953125\n",
      "epoch: 1\n"
     ]
    },
    {
     "name": "stderr",
     "output_type": "stream",
     "text": [
      "train: 100%|██████████| 9/9 [00:00<00:00, 34.47it/s]\n",
      "validation: 100%|██████████| 2/2 [00:00<00:00, 133.33it/s]\n"
     ]
    },
    {
     "name": "stdout",
     "output_type": "stream",
     "text": [
      "epoch: 1 validation: auc: 0.5078125\n",
      "epoch: 2\n"
     ]
    },
    {
     "name": "stderr",
     "output_type": "stream",
     "text": [
      "train: 100%|██████████| 9/9 [00:00<00:00, 34.90it/s]\n",
      "validation: 100%|██████████| 2/2 [00:00<00:00, 43.47it/s]\n"
     ]
    },
    {
     "name": "stdout",
     "output_type": "stream",
     "text": [
      "epoch: 2 validation: auc: 0.48046875\n",
      "epoch: 3\n"
     ]
    },
    {
     "name": "stderr",
     "output_type": "stream",
     "text": [
      "train: 100%|██████████| 9/9 [00:00<00:00, 33.51it/s]\n",
      "validation: 100%|██████████| 2/2 [00:00<00:00, 133.33it/s]\n"
     ]
    },
    {
     "name": "stdout",
     "output_type": "stream",
     "text": [
      "epoch: 3 validation: auc: 0.45703125\n",
      "epoch: 4\n"
     ]
    },
    {
     "name": "stderr",
     "output_type": "stream",
     "text": [
      "train: 100%|██████████| 9/9 [00:00<00:00, 34.44it/s]\n",
      "validation: 100%|██████████| 2/2 [00:00<00:00, 133.34it/s]\n"
     ]
    },
    {
     "name": "stdout",
     "output_type": "stream",
     "text": [
      "epoch: 4 validation: auc: 0.44921875\n",
      "validation: best auc: 0.51953125\n"
     ]
    },
    {
     "name": "stderr",
     "output_type": "stream",
     "text": [
      "validation: 100%|██████████| 2/2 [00:00<00:00, 153.81it/s]"
     ]
    },
    {
     "name": "stdout",
     "output_type": "stream",
     "text": [
      "test auc: 0.55859375\n"
     ]
    },
    {
     "name": "stderr",
     "output_type": "stream",
     "text": [
      "\n"
     ]
    }
   ],
   "source": [
    "from torch_rechub.models.ranking import BST\n",
    "from torch_rechub.trainers import CTRTrainer\n",
    "\n",
    "# BST中使用了TransformerEncoder，embedding的维度至少为64\n",
    "# 定义模型，模型的参数需要我们之前的feature类，用于构建模型的输入层，mlp指定模型后续DNN的结构，attention_mlp指定attention层的结构\n",
    "model = BST(features=features, history_features=history_features, target_features=target_features, mlp_params={\"dims\": [256, 128]})\n",
    "\n",
    "# 模型训练，需要学习率、设备等一般的参数，此外我们还支持earlystoping策略，及时发现过拟合\n",
    "ctr_trainer = CTRTrainer(model, optimizer_params={\"lr\": 1e-5, \"weight_decay\": 1e-3}, n_epoch=10, earlystop_patience=4, device='cpu', model_path='./')\n",
    "ctr_trainer.fit(train_dataloader, val_dataloader)\n",
    "\n",
    "# 查看在测试集上的性能\n",
    "auc = ctr_trainer.evaluate(ctr_trainer.model, test_dataloader)\n",
    "print(f'test auc: {auc}')"
   ]
  },
  {
   "cell_type": "code",
   "execution_count": 8,
   "id": "08997423",
   "metadata": {},
   "outputs": [
    {
     "name": "stdout",
     "output_type": "stream",
     "text": [
      "epoch: 0\n"
     ]
    },
    {
     "name": "stderr",
     "output_type": "stream",
     "text": [
      "train: 100%|██████████| 9/9 [00:00<00:00, 36.73it/s]\n",
      "validation: 100%|██████████| 2/2 [00:00<00:00, 38.79it/s]\n"
     ]
    },
    {
     "name": "stdout",
     "output_type": "stream",
     "text": [
      "epoch: 0 validation: auc: 0.34765625\n",
      "epoch: 1\n"
     ]
    },
    {
     "name": "stderr",
     "output_type": "stream",
     "text": [
      "train: 100%|██████████| 9/9 [00:00<00:00, 48.48it/s]\n",
      "validation: 100%|██████████| 2/2 [00:00<00:00, 161.52it/s]\n"
     ]
    },
    {
     "name": "stdout",
     "output_type": "stream",
     "text": [
      "epoch: 1 validation: auc: 0.28515625\n",
      "epoch: 2\n"
     ]
    },
    {
     "name": "stderr",
     "output_type": "stream",
     "text": [
      "train: 100%|██████████| 9/9 [00:00<00:00, 50.11it/s]\n",
      "validation: 100%|██████████| 2/2 [00:00<00:00, 164.74it/s]\n"
     ]
    },
    {
     "name": "stdout",
     "output_type": "stream",
     "text": [
      "epoch: 2 validation: auc: 0.3046875\n"
     ]
    },
    {
     "name": "stderr",
     "output_type": "stream",
     "text": [
      "validation: 100%|██████████| 2/2 [00:00<00:00, 153.87it/s]"
     ]
    },
    {
     "name": "stdout",
     "output_type": "stream",
     "text": [
      "test auc: 0.78125\n"
     ]
    },
    {
     "name": "stderr",
     "output_type": "stream",
     "text": [
      "\n"
     ]
    }
   ],
   "source": [
    "from torch_rechub.models.ranking import DIN\n",
    "from torch_rechub.trainers import CTRTrainer\n",
    "\n",
    "# 定义模型，模型的参数需要我们之前的feature类，用于构建模型的输入层，mlp指定模型后续DNN的结构，attention_mlp指定attention层的结构\n",
    "model = DIN(features=features, history_features=history_features, target_features=target_features, mlp_params={\"dims\": [256, 128]}, attention_mlp_params={\"dims\": [256, 128]})\n",
    "\n",
    "# 模型训练，需要学习率、设备等一般的参数，此外我们还支持earlystoping策略，及时发现过拟合\n",
    "ctr_trainer = CTRTrainer(model, optimizer_params={\"lr\": 1e-3, \"weight_decay\": 1e-3}, n_epoch=3, earlystop_patience=4, device='cpu', model_path='./')\n",
    "ctr_trainer.fit(train_dataloader, val_dataloader)\n",
    "\n",
    "# 查看在测试集上的性能\n",
    "auc = ctr_trainer.evaluate(ctr_trainer.model, test_dataloader)\n",
    "print(f'test auc: {auc}')"
   ]
  }
 ],
 "metadata": {
  "kernelspec": {
   "display_name": "base",
   "language": "python",
   "name": "python3"
  },
  "language_info": {
   "codemirror_mode": {
    "name": "ipython",
    "version": 3
   },
   "file_extension": ".py",
   "mimetype": "text/x-python",
   "name": "python",
   "nbconvert_exporter": "python",
   "pygments_lexer": "ipython3",
   "version": "3.10.9"
  }
 },
 "nbformat": 4,
 "nbformat_minor": 5
}
